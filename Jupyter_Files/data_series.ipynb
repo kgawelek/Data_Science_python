{
 "cells": [
  {
   "cell_type": "code",
   "execution_count": null,
   "metadata": {},
   "outputs": [],
   "source": [
    "import pandas as pd\n",
    "import matplotlib.pyplot as plt\n",
    "pd.read_csv(\"C:/Users/konga/Python_ds/survey_results_public.csv\")"
   ]
  },
  {
   "cell_type": "code",
   "execution_count": 6,
   "metadata": {},
   "outputs": [],
   "source": [
    "education = pd.read_csv(\"C:/Users/konga/Python_ds/survey_results_public.csv\", usecols=['FormalEducation', 'Respondent'], squeeze=True, index_col='Respondent')"
   ]
  },
  {
   "cell_type": "code",
   "execution_count": 7,
   "metadata": {},
   "outputs": [
    {
     "data": {
      "text/plain": [
       "Respondent\n",
       "1                                     Secondary school\n",
       "2    Some college/university study without earning ...\n",
       "3                                    Bachelor's degree\n",
       "4                                      Doctoral degree\n",
       "5                                      Master's degree\n",
       "Name: FormalEducation, dtype: object"
      ]
     },
     "execution_count": 7,
     "metadata": {},
     "output_type": "execute_result"
    }
   ],
   "source": [
    "education.head()"
   ]
  },
  {
   "cell_type": "code",
   "execution_count": null,
   "metadata": {},
   "outputs": [],
   "source": []
  },
  {
   "cell_type": "code",
   "execution_count": 8,
   "metadata": {},
   "outputs": [
    {
     "data": {
      "text/plain": [
       "Respondent\n",
       "4        Doctoral degree\n",
       "20       Doctoral degree\n",
       "84       Doctoral degree\n",
       "106      Doctoral degree\n",
       "269      Doctoral degree\n",
       "              ...       \n",
       "51279    Doctoral degree\n",
       "51316    Doctoral degree\n",
       "51346    Doctoral degree\n",
       "51354    Doctoral degree\n",
       "51382    Doctoral degree\n",
       "Name: FormalEducation, Length: 1308, dtype: object"
      ]
     },
     "execution_count": 8,
     "metadata": {},
     "output_type": "execute_result"
    }
   ],
   "source": [
    "education.where(education == 'Doctoral degree').dropna()\n"
   ]
  },
  {
   "cell_type": "code",
   "execution_count": 9,
   "metadata": {},
   "outputs": [
    {
     "data": {
      "text/plain": [
       "Respondent\n",
       "3        Bachelor's degree\n",
       "9        Bachelor's degree\n",
       "11       Bachelor's degree\n",
       "12       Bachelor's degree\n",
       "13       Bachelor's degree\n",
       "               ...        \n",
       "51378    Bachelor's degree\n",
       "51385    Bachelor's degree\n",
       "51388    Bachelor's degree\n",
       "51391    Bachelor's degree\n",
       "51392    Bachelor's degree\n",
       "Name: FormalEducation, Length: 21609, dtype: object"
      ]
     },
     "execution_count": 9,
     "metadata": {},
     "output_type": "execute_result"
    }
   ],
   "source": [
    "education.where(education == \"Bachelor's degree\").dropna()"
   ]
  },
  {
   "cell_type": "code",
   "execution_count": 10,
   "metadata": {},
   "outputs": [],
   "source": [
    "bachelors = education.where(education == \"Bachelor's degree\").dropna()\n",
    "doctors = education.where(education == 'Doctoral degree').dropna()\n",
    "masters = education.where(education == \"Master's degree\").dropna()"
   ]
  },
  {
   "cell_type": "code",
   "execution_count": 11,
   "metadata": {},
   "outputs": [
    {
     "data": {
      "text/plain": [
       "1308"
      ]
     },
     "execution_count": 11,
     "metadata": {},
     "output_type": "execute_result"
    }
   ],
   "source": [
    "doctors.size"
   ]
  },
  {
   "cell_type": "code",
   "execution_count": 12,
   "metadata": {},
   "outputs": [],
   "source": [
    "degrees = pd.Series({\n",
    "    \"doctors\": doctors.size,\n",
    "    \"bachelors\": bachelors.size,\n",
    "    \"masters\": masters.size\n",
    "}, name='degrees percantage')"
   ]
  },
  {
   "cell_type": "code",
   "execution_count": 14,
   "metadata": {},
   "outputs": [
    {
     "data": {
      "image/png": "[encoded data removed]",
      "text/plain": [
       "<Figure size 432x288 with 1 Axes>"
      ]
     },
     "metadata": {},
     "output_type": "display_data"
    }
   ],
   "source": [
    "degrees.plot.pie()\n",
    "plt.show()"
   ]
  },
  {
   "cell_type": "code",
   "execution_count": 15,
   "metadata": {},
   "outputs": [
    {
     "data": {
      "image/png": "[encoded data removed]",
      "text/plain": [
       "<Figure size 432x288 with 1 Axes>"
      ]
     },
     "metadata": {
      "needs_background": "light"
     },
     "output_type": "display_data"
    }
   ],
   "source": [
    "degrees.plot.bar()\n",
    "plt.show()"
   ]
  },
  {
   "cell_type": "code",
   "execution_count": null,
   "metadata": {},
   "outputs": [],
   "source": [
    "degrees.plot.pie()\n",
    "plt.show()\n"
   ]
  },
  {
   "cell_type": "code",
   "execution_count": null,
   "metadata": {},
   "outputs": [],
   "source": []
  }
 ],
 "metadata": {
  "kernelspec": {
   "display_name": "Python 3",
   "language": "python",
   "name": "python3"
  },
  "language_info": {
   "codemirror_mode": {
    "name": "ipython",
    "version": 3
   },
   "file_extension": ".py",
   "mimetype": "text/x-python",
   "name": "python",
   "nbconvert_exporter": "python",
   "pygments_lexer": "ipython3",
   "version": "3.7.6"
  },
  "pycharm": {
   "stem_cell": {
    "cell_type": "raw",
    "source": [],
    "metadata": {
     "collapsed": false
    }
   }
  }
 },
 "nbformat": 4,
 "nbformat_minor": 4
}