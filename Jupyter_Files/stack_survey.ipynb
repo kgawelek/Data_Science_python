{
 "cells": [
  {
   "cell_type": "code",
   "execution_count": 1,
   "metadata": {},
   "outputs": [],
   "source": [
    "import pandas as pd\n",
    "import numpy as np\n",
    "survey = pd.read_csv('../course-files/StackOverflowDeveloperSurvey2018.csv', usecols=['Country','Gender','OperatingSystem'],  low_memory=False)"
   ]
  },
  {
   "cell_type": "code",
   "execution_count": 2,
   "metadata": {},
   "outputs": [
    {
     "data": {
      "text/html": [
       "<div>\n",
       "<style scoped>\n",
       "    .dataframe tbody tr th:only-of-type {\n",
       "        vertical-align: middle;\n",
       "    }\n",
       "\n",
       "    .dataframe tbody tr th {\n",
       "        vertical-align: top;\n",
       "    }\n",
       "\n",
       "    .dataframe thead th {\n",
       "        text-align: right;\n",
       "    }\n",
       "</style>\n",
       "<table border=\"1\" class=\"dataframe\">\n",
       "  <thead>\n",
       "    <tr style=\"text-align: right;\">\n",
       "      <th></th>\n",
       "      <th>Country</th>\n",
       "      <th>OperatingSystem</th>\n",
       "      <th>Gender</th>\n",
       "    </tr>\n",
       "  </thead>\n",
       "  <tbody>\n",
       "    <tr>\n",
       "      <th>0</th>\n",
       "      <td>Kenya</td>\n",
       "      <td>Linux-based</td>\n",
       "      <td>Male</td>\n",
       "    </tr>\n",
       "    <tr>\n",
       "      <th>1</th>\n",
       "      <td>United Kingdom</td>\n",
       "      <td>Linux-based</td>\n",
       "      <td>Male</td>\n",
       "    </tr>\n",
       "    <tr>\n",
       "      <th>2</th>\n",
       "      <td>United States</td>\n",
       "      <td>NaN</td>\n",
       "      <td>NaN</td>\n",
       "    </tr>\n",
       "    <tr>\n",
       "      <th>3</th>\n",
       "      <td>United States</td>\n",
       "      <td>Windows</td>\n",
       "      <td>Male</td>\n",
       "    </tr>\n",
       "    <tr>\n",
       "      <th>4</th>\n",
       "      <td>South Africa</td>\n",
       "      <td>Windows</td>\n",
       "      <td>Male</td>\n",
       "    </tr>\n",
       "  </tbody>\n",
       "</table>\n",
       "</div>"
      ],
      "text/plain": [
       "          Country OperatingSystem Gender\n",
       "0           Kenya     Linux-based   Male\n",
       "1  United Kingdom     Linux-based   Male\n",
       "2   United States             NaN    NaN\n",
       "3   United States         Windows   Male\n",
       "4    South Africa         Windows   Male"
      ]
     },
     "execution_count": 2,
     "metadata": {},
     "output_type": "execute_result"
    }
   ],
   "source": [
    "survey.head()"
   ]
  },
  {
   "cell_type": "code",
   "execution_count": 3,
   "metadata": {},
   "outputs": [
    {
     "data": {
      "text/plain": [
       "False"
      ]
     },
     "execution_count": 3,
     "metadata": {},
     "output_type": "execute_result"
    }
   ],
   "source": [
    "survey.Country.is_unique"
   ]
  },
  {
   "cell_type": "code",
   "execution_count": 4,
   "metadata": {},
   "outputs": [
    {
     "data": {
      "text/plain": [
       "183"
      ]
     },
     "execution_count": 4,
     "metadata": {},
     "output_type": "execute_result"
    }
   ],
   "source": [
    "survey.Country.nunique()"
   ]
  },
  {
   "cell_type": "code",
   "execution_count": 5,
   "metadata": {},
   "outputs": [
    {
     "data": {
      "text/plain": [
       "184"
      ]
     },
     "execution_count": 5,
     "metadata": {},
     "output_type": "execute_result"
    }
   ],
   "source": [
    "len(survey.Country.unique())"
   ]
  },
  {
   "cell_type": "code",
   "execution_count": 6,
   "metadata": {
    "collapsed": true
   },
   "outputs": [
    {
     "data": {
      "text/plain": [
       "array(['Kenya', 'United Kingdom', 'United States', 'South Africa',\n",
       "       'Nigeria', 'India', 'Spain', 'Croatia', 'Netherlands', 'Israel',\n",
       "       'Sweden', 'Chile', 'Australia', 'Greece', 'Poland', 'Belgium',\n",
       "       'Argentina', 'Germany', 'Russian Federation', 'Indonesia',\n",
       "       'Ireland', 'France', 'Ukraine', 'Denmark', 'Dominican Republic',\n",
       "       'China', 'Latvia', 'Algeria', 'Colombia', 'Japan', 'Finland',\n",
       "       'Romania', 'Brazil', 'Bulgaria', 'Iran, Islamic Republic of...',\n",
       "       'Nepal', 'Bangladesh', 'Pakistan', 'Canada', 'Jordan', 'Portugal',\n",
       "       'Italy', 'New Zealand', 'Turkey', 'Czech Republic', 'Viet Nam',\n",
       "       'Austria', 'Egypt', 'Malaysia', 'Mozambique', 'Thailand',\n",
       "       'Slovakia', 'Lebanon', 'Mexico', 'Hong Kong (S.A.R.)', 'Norway',\n",
       "       'Myanmar', 'Switzerland', 'South Korea', 'Hungary', 'Armenia',\n",
       "       'Kazakhstan', 'United Arab Emirates', 'Singapore', 'Qatar',\n",
       "       'Bosnia and Herzegovina', 'Bahrain', 'Sri Lanka', 'Cambodia',\n",
       "       'Serbia', 'Philippines', 'Peru', 'Botswana', 'Paraguay', 'Georgia',\n",
       "       'Uruguay', 'Belarus', 'Lithuania', 'Afghanistan', 'Estonia',\n",
       "       'Malta', 'Costa Rica', 'Ghana', 'Taiwan', 'Morocco', 'Albania',\n",
       "       'Saudi Arabia', 'Slovenia', 'Uzbekistan', 'Republic of Korea',\n",
       "       'El Salvador', 'Iceland', 'Venezuela, Bolivarian Republic of...',\n",
       "       'Nicaragua', 'Other Country (Not Listed Above)', 'Tunisia',\n",
       "       'The former Yugoslav Republic of Macedonia',\n",
       "       'Micronesia, Federated States of...', 'Madagascar', 'Rwanda',\n",
       "       'Yemen', 'Uganda', 'United Republic of Tanzania', 'Cameroon',\n",
       "       'Cuba', 'Ethiopia', 'Oman', 'Ecuador', 'Angola',\n",
       "       'Republic of Moldova', 'Honduras', 'Azerbaijan', 'Cyprus',\n",
       "       'Bhutan', 'Guatemala', 'Syrian Arab Republic', 'Kuwait',\n",
       "       'Luxembourg', 'Jamaica', 'Zimbabwe', 'San Marino', 'Fiji',\n",
       "       'Liechtenstein', 'Burundi', 'Bolivia', 'Mauritius', 'Somalia',\n",
       "       'Montenegro', 'Mongolia', 'Sudan', 'Maldives', 'Turkmenistan',\n",
       "       'Panama', 'Barbados', 'Lesotho', 'Namibia', 'Gabon', 'Kyrgyzstan',\n",
       "       'Swaziland', 'Antigua and Barbuda', 'Marshall Islands',\n",
       "       'Trinidad and Tobago', 'Senegal', 'Iraq', 'Haiti', 'Malawi',\n",
       "       'Benin', 'Libyan Arab Jamahiriya', 'Tajikistan',\n",
       "       'Democratic Republic of the Congo', 'Andorra', 'Guinea',\n",
       "       \"Côte d'Ivoire\", 'Bahamas', 'Central African Republic', 'Monaco',\n",
       "       'Gambia', 'Sierra Leone', 'Togo', 'Palau', 'Zambia', 'Grenada',\n",
       "       'Burkina Faso', 'Belize', 'Congo, Republic of the...', 'Suriname',\n",
       "       'Timor-Leste', 'Dominica', 'Solomon Islands', 'Saint Lucia',\n",
       "       'Niger', 'Guyana', 'Nauru', 'Mauritania', 'Mali', 'Liberia',\n",
       "       'Brunei Darussalam', 'North Korea', 'Cape Verde', 'Eritrea',\n",
       "       \"Democratic People's Republic of Korea\", 'Djibouti', nan,\n",
       "       'Guinea-Bissau'], dtype=object)"
      ]
     },
     "execution_count": 6,
     "metadata": {},
     "output_type": "execute_result"
    }
   ],
   "source": [
    "survey.Country.unique()"
   ]
  },
  {
   "cell_type": "code",
   "execution_count": 7,
   "metadata": {},
   "outputs": [],
   "source": [
    "duplicates_keep_first = survey.duplicated(subset='Country')"
   ]
  },
  {
   "cell_type": "code",
   "execution_count": 8,
   "metadata": {},
   "outputs": [
    {
     "data": {
      "text/html": [
       "<div>\n",
       "<style scoped>\n",
       "    .dataframe tbody tr th:only-of-type {\n",
       "        vertical-align: middle;\n",
       "    }\n",
       "\n",
       "    .dataframe tbody tr th {\n",
       "        vertical-align: top;\n",
       "    }\n",
       "\n",
       "    .dataframe thead th {\n",
       "        text-align: right;\n",
       "    }\n",
       "</style>\n",
       "<table border=\"1\" class=\"dataframe\">\n",
       "  <thead>\n",
       "    <tr style=\"text-align: right;\">\n",
       "      <th></th>\n",
       "      <th>Country</th>\n",
       "      <th>OperatingSystem</th>\n",
       "      <th>Gender</th>\n",
       "    </tr>\n",
       "  </thead>\n",
       "  <tbody>\n",
       "    <tr>\n",
       "      <th>0</th>\n",
       "      <td>Kenya</td>\n",
       "      <td>Linux-based</td>\n",
       "      <td>Male</td>\n",
       "    </tr>\n",
       "    <tr>\n",
       "      <th>1</th>\n",
       "      <td>United Kingdom</td>\n",
       "      <td>Linux-based</td>\n",
       "      <td>Male</td>\n",
       "    </tr>\n",
       "    <tr>\n",
       "      <th>2</th>\n",
       "      <td>United States</td>\n",
       "      <td>NaN</td>\n",
       "      <td>NaN</td>\n",
       "    </tr>\n",
       "    <tr>\n",
       "      <th>4</th>\n",
       "      <td>South Africa</td>\n",
       "      <td>Windows</td>\n",
       "      <td>Male</td>\n",
       "    </tr>\n",
       "    <tr>\n",
       "      <th>7</th>\n",
       "      <td>Nigeria</td>\n",
       "      <td>Windows</td>\n",
       "      <td>Female</td>\n",
       "    </tr>\n",
       "  </tbody>\n",
       "</table>\n",
       "</div>"
      ],
      "text/plain": [
       "          Country OperatingSystem  Gender\n",
       "0           Kenya     Linux-based    Male\n",
       "1  United Kingdom     Linux-based    Male\n",
       "2   United States             NaN     NaN\n",
       "4    South Africa         Windows    Male\n",
       "7         Nigeria         Windows  Female"
      ]
     },
     "execution_count": 8,
     "metadata": {},
     "output_type": "execute_result"
    }
   ],
   "source": [
    "survey[~duplicates_keep_first].head()"
   ]
  },
  {
   "cell_type": "code",
   "execution_count": 9,
   "metadata": {},
   "outputs": [
    {
     "data": {
      "text/plain": [
       "184"
      ]
     },
     "execution_count": 9,
     "metadata": {},
     "output_type": "execute_result"
    }
   ],
   "source": [
    "len(survey[~duplicates_keep_first])"
   ]
  },
  {
   "cell_type": "code",
   "execution_count": 10,
   "metadata": {},
   "outputs": [],
   "source": [
    "survey.drop_duplicates(subset=['Country', 'OperatingSystem'], inplace=True)"
   ]
  },
  {
   "cell_type": "code",
   "execution_count": 11,
   "metadata": {},
   "outputs": [
    {
     "data": {
      "text/html": [
       "<div>\n",
       "<style scoped>\n",
       "    .dataframe tbody tr th:only-of-type {\n",
       "        vertical-align: middle;\n",
       "    }\n",
       "\n",
       "    .dataframe tbody tr th {\n",
       "        vertical-align: top;\n",
       "    }\n",
       "\n",
       "    .dataframe thead th {\n",
       "        text-align: right;\n",
       "    }\n",
       "</style>\n",
       "<table border=\"1\" class=\"dataframe\">\n",
       "  <thead>\n",
       "    <tr style=\"text-align: right;\">\n",
       "      <th></th>\n",
       "      <th>Country</th>\n",
       "      <th>OperatingSystem</th>\n",
       "      <th>Gender</th>\n",
       "    </tr>\n",
       "  </thead>\n",
       "  <tbody>\n",
       "    <tr>\n",
       "      <th>30</th>\n",
       "      <td>Poland</td>\n",
       "      <td>Linux-based</td>\n",
       "      <td>Male</td>\n",
       "    </tr>\n",
       "    <tr>\n",
       "      <th>34</th>\n",
       "      <td>Poland</td>\n",
       "      <td>Windows</td>\n",
       "      <td>Male</td>\n",
       "    </tr>\n",
       "    <tr>\n",
       "      <th>232</th>\n",
       "      <td>Poland</td>\n",
       "      <td>NaN</td>\n",
       "      <td>NaN</td>\n",
       "    </tr>\n",
       "    <tr>\n",
       "      <th>854</th>\n",
       "      <td>Poland</td>\n",
       "      <td>MacOS</td>\n",
       "      <td>Male</td>\n",
       "    </tr>\n",
       "    <tr>\n",
       "      <th>72587</th>\n",
       "      <td>Poland</td>\n",
       "      <td>BSD/Unix</td>\n",
       "      <td>NaN</td>\n",
       "    </tr>\n",
       "  </tbody>\n",
       "</table>\n",
       "</div>"
      ],
      "text/plain": [
       "      Country OperatingSystem Gender\n",
       "30     Poland     Linux-based   Male\n",
       "34     Poland         Windows   Male\n",
       "232    Poland             NaN    NaN\n",
       "854    Poland           MacOS   Male\n",
       "72587  Poland        BSD/Unix    NaN"
      ]
     },
     "execution_count": 11,
     "metadata": {},
     "output_type": "execute_result"
    }
   ],
   "source": [
    "survey[survey.Country == 'Poland']"
   ]
  },
  {
   "cell_type": "code",
   "execution_count": 12,
   "metadata": {},
   "outputs": [],
   "source": [
    "survey = pd.read_csv('../course-files/StackOverflowDeveloperSurvey2018.csv', usecols=['Country','Gender','OperatingSystem'],  low_memory=False)"
   ]
  },
  {
   "cell_type": "code",
   "execution_count": 13,
   "metadata": {},
   "outputs": [],
   "source": [
    "nr_poland = len(survey.query('Country == \"Poland\"'))"
   ]
  },
  {
   "cell_type": "code",
   "execution_count": 14,
   "metadata": {},
   "outputs": [
    {
     "data": {
      "text/plain": [
       "451"
      ]
     },
     "execution_count": 14,
     "metadata": {},
     "output_type": "execute_result"
    }
   ],
   "source": [
    "len(survey.query('Country == \"Poland\" and OperatingSystem == \"Linux-based\"'))"
   ]
  },
  {
   "cell_type": "code",
   "execution_count": 15,
   "metadata": {},
   "outputs": [],
   "source": [
    "nr_female_poland = len(survey.query('Country == \"Poland\" and Gender == \"Female\"'))"
   ]
  },
  {
   "cell_type": "code",
   "execution_count": 16,
   "metadata": {},
   "outputs": [
    {
     "name": "stdout",
     "output_type": "stream",
     "text": [
      "percentage of female surveys in Poland:  3.4401508011310082 %\n"
     ]
    }
   ],
   "source": [
    "print(\"percentage of female surveys in Poland: \", nr_female_poland/nr_poland * 100, '%')"
   ]
  },
  {
   "cell_type": "code",
   "execution_count": 17,
   "metadata": {},
   "outputs": [],
   "source": [
    "female_all = len(survey.query('Gender == \"Female\"'))"
   ]
  },
  {
   "cell_type": "code",
   "execution_count": 18,
   "metadata": {},
   "outputs": [
    {
     "name": "stdout",
     "output_type": "stream",
     "text": [
      "percentage of female in all surveys:  4.071620049567548 %\n"
     ]
    }
   ],
   "source": [
    "print('percentage of female in all surveys: ', female_all/len(survey) * 100, '%')"
   ]
  },
  {
   "cell_type": "code",
   "execution_count": 19,
   "metadata": {},
   "outputs": [],
   "source": [
    "linux_users = len(survey.query('OperatingSystem == \"Linux-based\"'))"
   ]
  },
  {
   "cell_type": "code",
   "execution_count": 20,
   "metadata": {},
   "outputs": [
    {
     "name": "stdout",
     "output_type": "stream",
     "text": [
      "linux users percentage:  17.88882706995094 %\n"
     ]
    }
   ],
   "source": [
    "print('linux users percentage: ', linux_users/len(survey) * 100, '%')"
   ]
  },
  {
   "cell_type": "code",
   "execution_count": 21,
   "metadata": {},
   "outputs": [],
   "source": [
    "survey = pd.read_csv('../course-files/StackOverflowDeveloperSurvey2018.csv', usecols=['DevType', 'Salary', 'OperatingSystem', 'IDE'] , low_memory=False)"
   ]
  },
  {
   "cell_type": "code",
   "execution_count": 22,
   "metadata": {},
   "outputs": [
    {
     "data": {
      "text/html": [
       "<div>\n",
       "<style scoped>\n",
       "    .dataframe tbody tr th:only-of-type {\n",
       "        vertical-align: middle;\n",
       "    }\n",
       "\n",
       "    .dataframe tbody tr th {\n",
       "        vertical-align: top;\n",
       "    }\n",
       "\n",
       "    .dataframe thead th {\n",
       "        text-align: right;\n",
       "    }\n",
       "</style>\n",
       "<table border=\"1\" class=\"dataframe\">\n",
       "  <thead>\n",
       "    <tr style=\"text-align: right;\">\n",
       "      <th></th>\n",
       "      <th>DevType</th>\n",
       "      <th>Salary</th>\n",
       "      <th>IDE</th>\n",
       "      <th>OperatingSystem</th>\n",
       "    </tr>\n",
       "  </thead>\n",
       "  <tbody>\n",
       "    <tr>\n",
       "      <th>0</th>\n",
       "      <td>Full-stack developer</td>\n",
       "      <td>NaN</td>\n",
       "      <td>Komodo;Vim;Visual Studio Code</td>\n",
       "      <td>Linux-based</td>\n",
       "    </tr>\n",
       "    <tr>\n",
       "      <th>1</th>\n",
       "      <td>Database administrator;DevOps specialist;Full-...</td>\n",
       "      <td>51000</td>\n",
       "      <td>IPython / Jupyter;Sublime Text;Vim</td>\n",
       "      <td>Linux-based</td>\n",
       "    </tr>\n",
       "    <tr>\n",
       "      <th>2</th>\n",
       "      <td>Engineering manager;Full-stack developer</td>\n",
       "      <td>NaN</td>\n",
       "      <td>NaN</td>\n",
       "      <td>NaN</td>\n",
       "    </tr>\n",
       "    <tr>\n",
       "      <th>3</th>\n",
       "      <td>Full-stack developer</td>\n",
       "      <td>NaN</td>\n",
       "      <td>Visual Studio;Visual Studio Code</td>\n",
       "      <td>Windows</td>\n",
       "    </tr>\n",
       "    <tr>\n",
       "      <th>4</th>\n",
       "      <td>Data or business analyst;Desktop or enterprise...</td>\n",
       "      <td>260000</td>\n",
       "      <td>Notepad++;Visual Studio;Visual Studio Code</td>\n",
       "      <td>Windows</td>\n",
       "    </tr>\n",
       "  </tbody>\n",
       "</table>\n",
       "</div>"
      ],
      "text/plain": [
       "                                             DevType  Salary  \\\n",
       "0                               Full-stack developer     NaN   \n",
       "1  Database administrator;DevOps specialist;Full-...   51000   \n",
       "2           Engineering manager;Full-stack developer     NaN   \n",
       "3                               Full-stack developer     NaN   \n",
       "4  Data or business analyst;Desktop or enterprise...  260000   \n",
       "\n",
       "                                          IDE OperatingSystem  \n",
       "0               Komodo;Vim;Visual Studio Code     Linux-based  \n",
       "1          IPython / Jupyter;Sublime Text;Vim     Linux-based  \n",
       "2                                         NaN             NaN  \n",
       "3            Visual Studio;Visual Studio Code         Windows  \n",
       "4  Notepad++;Visual Studio;Visual Studio Code         Windows  "
      ]
     },
     "execution_count": 22,
     "metadata": {},
     "output_type": "execute_result"
    }
   ],
   "source": [
    "survey.head()"
   ]
  },
  {
   "cell_type": "code",
   "execution_count": 41,
   "metadata": {},
   "outputs": [],
   "source": [
    "survey.dropna(subset=['DevType', 'Salary'], inplace=True)"
   ]
  },
  {
   "cell_type": "code",
   "execution_count": 42,
   "metadata": {},
   "outputs": [],
   "source": [
    "data_scientist = survey['DevType'].str.lower().str.contains('data scientist')"
   ]
  },
  {
   "cell_type": "code",
   "execution_count": 66,
   "metadata": {},
   "outputs": [],
   "source": [
    "data_scientists_or_other = survey[data_scientist].copy()"
   ]
  },
  {
   "cell_type": "code",
   "execution_count": 67,
   "metadata": {},
   "outputs": [
    {
     "data": {
      "text/html": [
       "<div>\n",
       "<style scoped>\n",
       "    .dataframe tbody tr th:only-of-type {\n",
       "        vertical-align: middle;\n",
       "    }\n",
       "\n",
       "    .dataframe tbody tr th {\n",
       "        vertical-align: top;\n",
       "    }\n",
       "\n",
       "    .dataframe thead th {\n",
       "        text-align: right;\n",
       "    }\n",
       "</style>\n",
       "<table border=\"1\" class=\"dataframe\">\n",
       "  <thead>\n",
       "    <tr style=\"text-align: right;\">\n",
       "      <th></th>\n",
       "      <th>DevType</th>\n",
       "      <th>IDE</th>\n",
       "      <th>OperatingSystem</th>\n",
       "      <th>Salary</th>\n",
       "    </tr>\n",
       "  </thead>\n",
       "  <tbody>\n",
       "    <tr>\n",
       "      <th>62</th>\n",
       "      <td>Back-end developer;Data scientist or machine l...</td>\n",
       "      <td>Notepad++;Vim</td>\n",
       "      <td>BSD/Unix</td>\n",
       "      <td>120000.0</td>\n",
       "    </tr>\n",
       "    <tr>\n",
       "      <th>86</th>\n",
       "      <td>Back-end developer;Data scientist or machine l...</td>\n",
       "      <td>IPython / Jupyter;Sublime Text</td>\n",
       "      <td>Windows</td>\n",
       "      <td>120000.0</td>\n",
       "    </tr>\n",
       "    <tr>\n",
       "      <th>126</th>\n",
       "      <td>Data scientist or machine learning specialist</td>\n",
       "      <td>Atom;Eclipse;IntelliJ</td>\n",
       "      <td>Windows</td>\n",
       "      <td>25000.0</td>\n",
       "    </tr>\n",
       "    <tr>\n",
       "      <th>131</th>\n",
       "      <td>Back-end developer;Data or business analyst;Da...</td>\n",
       "      <td>PyCharm</td>\n",
       "      <td>Linux-based</td>\n",
       "      <td>12000.0</td>\n",
       "    </tr>\n",
       "    <tr>\n",
       "      <th>136</th>\n",
       "      <td>Back-end developer;Data scientist or machine l...</td>\n",
       "      <td>Visual Studio;Visual Studio Code</td>\n",
       "      <td>Windows</td>\n",
       "      <td>37000.0</td>\n",
       "    </tr>\n",
       "  </tbody>\n",
       "</table>\n",
       "</div>"
      ],
      "text/plain": [
       "                                               DevType  \\\n",
       "62   Back-end developer;Data scientist or machine l...   \n",
       "86   Back-end developer;Data scientist or machine l...   \n",
       "126      Data scientist or machine learning specialist   \n",
       "131  Back-end developer;Data or business analyst;Da...   \n",
       "136  Back-end developer;Data scientist or machine l...   \n",
       "\n",
       "                                  IDE OperatingSystem    Salary  \n",
       "62                      Notepad++;Vim        BSD/Unix  120000.0  \n",
       "86     IPython / Jupyter;Sublime Text         Windows  120000.0  \n",
       "126             Atom;Eclipse;IntelliJ         Windows   25000.0  \n",
       "131                           PyCharm     Linux-based   12000.0  \n",
       "136  Visual Studio;Visual Studio Code         Windows   37000.0  "
      ]
     },
     "execution_count": 67,
     "metadata": {},
     "output_type": "execute_result"
    }
   ],
   "source": [
    "data_scientists.head()"
   ]
  },
  {
   "cell_type": "code",
   "execution_count": 68,
   "metadata": {
    "collapsed": true
   },
   "outputs": [
    {
     "data": {
      "text/plain": [
       "Vim                                                                                                                                     115\n",
       "RStudio                                                                                                                                  70\n",
       "IPython / Jupyter;Vim                                                                                                                    63\n",
       "Notepad++;Visual Studio                                                                                                                  61\n",
       "Sublime Text                                                                                                                             45\n",
       "Notepad++;Visual Studio;Visual Studio Code                                                                                               42\n",
       "Emacs                                                                                                                                    39\n",
       "Visual Studio;Visual Studio Code                                                                                                         37\n",
       "IPython / Jupyter;Sublime Text                                                                                                           34\n",
       "Visual Studio                                                                                                                            32\n",
       "IPython / Jupyter;Sublime Text;Vim                                                                                                       32\n",
       "IPython / Jupyter;PyCharm                                                                                                                32\n",
       "Notepad++                                                                                                                                31\n",
       "IPython / Jupyter;RStudio                                                                                                                30\n",
       "Notepad++;RStudio                                                                                                                        28\n",
       "Atom;Vim                                                                                                                                 26\n",
       "Visual Studio Code                                                                                                                       25\n",
       "IPython / Jupyter;Visual Studio Code                                                                                                     25\n",
       "Atom;IPython / Jupyter                                                                                                                   25\n",
       "Sublime Text;Vim                                                                                                                         23\n",
       "IPython / Jupyter                                                                                                                        22\n",
       "RStudio;Sublime Text                                                                                                                     22\n",
       "Atom                                                                                                                                     21\n",
       "Emacs;IPython / Jupyter                                                                                                                  21\n",
       "IntelliJ;IPython / Jupyter;PyCharm;Vim                                                                                                   20\n",
       "PyCharm                                                                                                                                  19\n",
       "IntelliJ                                                                                                                                 19\n",
       "IntelliJ;Vim                                                                                                                             19\n",
       "IPython / Jupyter;PyCharm;Vim                                                                                                            18\n",
       "IPython / Jupyter;RStudio;Vim                                                                                                            17\n",
       "                                                                                                                                       ... \n",
       "Eclipse;Notepad++;PyCharm;RStudio;Visual Studio                                                                                           1\n",
       "Android Studio;Eclipse;IntelliJ;IPython / Jupyter;Notepad++;PyCharm;Sublime Text;Vim                                                      1\n",
       "NetBeans;RStudio                                                                                                                          1\n",
       "Android Studio;Visual Studio;Visual Studio Code;Xcode                                                                                     1\n",
       "Eclipse;IPython / Jupyter;PyCharm;Vim;Visual Studio                                                                                       1\n",
       "Atom;Komodo;Notepad++;RStudio                                                                                                             1\n",
       "Emacs;IntelliJ;Notepad++;Sublime Text;Vim;Visual Studio;Xcode                                                                             1\n",
       "Android Studio;Atom;Xcode                                                                                                                 1\n",
       "Android Studio;IPython / Jupyter;PyCharm;RStudio;Sublime Text                                                                             1\n",
       "Atom;Eclipse;IPython / Jupyter;Komodo;NetBeans;Notepad++;PyCharm;RStudio;Sublime Text;Vim;Visual Studio;Visual Studio Code                1\n",
       "Eclipse;Emacs;IntelliJ;Vim                                                                                                                1\n",
       "Android Studio;NetBeans;Notepad++;Visual Studio;Visual Studio Code                                                                        1\n",
       "Atom;IntelliJ;Notepad++;PHPStorm;PyCharm;Vim                                                                                              1\n",
       "Light Table;Notepad++;PyCharm;RStudio;Sublime Text;Vim                                                                                    1\n",
       "IPython / Jupyter;Notepad++;PyCharm;Sublime Text;Vim                                                                                      1\n",
       "Eclipse;IntelliJ;IPython / Jupyter;PyCharm;RStudio;Visual Studio;Visual Studio Code                                                       1\n",
       "Android Studio;Atom;Eclipse;IntelliJ;IPython / Jupyter;NetBeans;Notepad++;PHPStorm;Sublime Text;Vim;Visual Studio;Visual Studio Code      1\n",
       "Atom;Eclipse;IPython / Jupyter;Vim                                                                                                        1\n",
       "Android Studio;Eclipse;IntelliJ;Notepad++;PyCharm;Sublime Text;Visual Studio Code                                                         1\n",
       "Notepad++;RStudio;Sublime Text;Vim                                                                                                        1\n",
       "Atom;Eclipse;IPython / Jupyter;Sublime Text;Visual Studio                                                                                 1\n",
       "Android Studio;Emacs;IntelliJ;IPython / Jupyter;Vim                                                                                       1\n",
       "Atom;Emacs;IPython / Jupyter;RStudio;Visual Studio Code                                                                                   1\n",
       "Android Studio;Vim;Visual Studio                                                                                                          1\n",
       "Eclipse;IntelliJ;NetBeans;Visual Studio Code                                                                                              1\n",
       "Eclipse;IPython / Jupyter;Notepad++                                                                                                       1\n",
       "Eclipse;Emacs;IntelliJ;Vim;Visual Studio                                                                                                  1\n",
       "IPython / Jupyter;Notepad++;Vim;Visual Studio;Visual Studio Code                                                                          1\n",
       "Atom;Eclipse;IPython / Jupyter;Notepad++;Sublime Text;Vim;Visual Studio;Visual Studio Code                                                1\n",
       "IntelliJ;IPython / Jupyter;Notepad++;PyCharm;Sublime Text;Visual Studio                                                                   1\n",
       "Name: IDE, Length: 1547, dtype: int64"
      ]
     },
     "execution_count": 68,
     "metadata": {},
     "output_type": "execute_result"
    }
   ],
   "source": [
    "data_scientists['IDE'].value_counts()"
   ]
  },
  {
   "cell_type": "code",
   "execution_count": 69,
   "metadata": {},
   "outputs": [
    {
     "data": {
      "text/plain": [
       "Windows        1539\n",
       "Linux-based    1284\n",
       "MacOS          1019\n",
       "BSD/Unix          8\n",
       "Name: OperatingSystem, dtype: int64"
      ]
     },
     "execution_count": 69,
     "metadata": {},
     "output_type": "execute_result"
    }
   ],
   "source": [
    "data_scientists['OperatingSystem'].value_counts()"
   ]
  },
  {
   "cell_type": "code",
   "execution_count": 70,
   "metadata": {},
   "outputs": [],
   "source": [
    "ds_only = data_scientists[data_scientists['DevType'] == 'Data scientist or machine learning specialist']"
   ]
  },
  {
   "cell_type": "code",
   "execution_count": 71,
   "metadata": {},
   "outputs": [
    {
     "data": {
      "text/html": [
       "<div>\n",
       "<style scoped>\n",
       "    .dataframe tbody tr th:only-of-type {\n",
       "        vertical-align: middle;\n",
       "    }\n",
       "\n",
       "    .dataframe tbody tr th {\n",
       "        vertical-align: top;\n",
       "    }\n",
       "\n",
       "    .dataframe thead th {\n",
       "        text-align: right;\n",
       "    }\n",
       "</style>\n",
       "<table border=\"1\" class=\"dataframe\">\n",
       "  <thead>\n",
       "    <tr style=\"text-align: right;\">\n",
       "      <th></th>\n",
       "      <th>DevType</th>\n",
       "      <th>IDE</th>\n",
       "      <th>OperatingSystem</th>\n",
       "      <th>Salary</th>\n",
       "    </tr>\n",
       "  </thead>\n",
       "  <tbody>\n",
       "    <tr>\n",
       "      <th>126</th>\n",
       "      <td>Data scientist or machine learning specialist</td>\n",
       "      <td>Atom;Eclipse;IntelliJ</td>\n",
       "      <td>Windows</td>\n",
       "      <td>25000.0</td>\n",
       "    </tr>\n",
       "    <tr>\n",
       "      <th>347</th>\n",
       "      <td>Data scientist or machine learning specialist</td>\n",
       "      <td>PyCharm;RStudio;Sublime Text;Vim</td>\n",
       "      <td>MacOS</td>\n",
       "      <td>113000.0</td>\n",
       "    </tr>\n",
       "    <tr>\n",
       "      <th>393</th>\n",
       "      <td>Data scientist or machine learning specialist</td>\n",
       "      <td>IPython / Jupyter;Notepad++;RStudio</td>\n",
       "      <td>Windows</td>\n",
       "      <td>2500.0</td>\n",
       "    </tr>\n",
       "    <tr>\n",
       "      <th>576</th>\n",
       "      <td>Data scientist or machine learning specialist</td>\n",
       "      <td>RStudio;Sublime Text;Vim</td>\n",
       "      <td>Linux-based</td>\n",
       "      <td>34000.0</td>\n",
       "    </tr>\n",
       "    <tr>\n",
       "      <th>802</th>\n",
       "      <td>Data scientist or machine learning specialist</td>\n",
       "      <td>IntelliJ;IPython / Jupyter;RStudio;Sublime Tex...</td>\n",
       "      <td>MacOS</td>\n",
       "      <td>300000.0</td>\n",
       "    </tr>\n",
       "  </tbody>\n",
       "</table>\n",
       "</div>"
      ],
      "text/plain": [
       "                                           DevType  \\\n",
       "126  Data scientist or machine learning specialist   \n",
       "347  Data scientist or machine learning specialist   \n",
       "393  Data scientist or machine learning specialist   \n",
       "576  Data scientist or machine learning specialist   \n",
       "802  Data scientist or machine learning specialist   \n",
       "\n",
       "                                                   IDE OperatingSystem  \\\n",
       "126                              Atom;Eclipse;IntelliJ         Windows   \n",
       "347                   PyCharm;RStudio;Sublime Text;Vim           MacOS   \n",
       "393                IPython / Jupyter;Notepad++;RStudio         Windows   \n",
       "576                           RStudio;Sublime Text;Vim     Linux-based   \n",
       "802  IntelliJ;IPython / Jupyter;RStudio;Sublime Tex...           MacOS   \n",
       "\n",
       "       Salary  \n",
       "126   25000.0  \n",
       "347  113000.0  \n",
       "393    2500.0  \n",
       "576   34000.0  \n",
       "802  300000.0  "
      ]
     },
     "execution_count": 71,
     "metadata": {},
     "output_type": "execute_result"
    }
   ],
   "source": [
    "ds_only.head()"
   ]
  },
  {
   "cell_type": "code",
   "execution_count": 73,
   "metadata": {
    "collapsed": true
   },
   "outputs": [
    {
     "data": {
      "text/plain": [
       "RStudio                                                                                           21\n",
       "Vim                                                                                               12\n",
       "IPython / Jupyter;Vim                                                                             12\n",
       "IPython / Jupyter;PyCharm                                                                          9\n",
       "Sublime Text                                                                                       9\n",
       "IPython / Jupyter;RStudio                                                                          9\n",
       "Emacs                                                                                              9\n",
       "IPython / Jupyter;Sublime Text;Vim                                                                 8\n",
       "IPython / Jupyter                                                                                  7\n",
       "Atom;IPython / Jupyter                                                                             7\n",
       "RStudio;Vim                                                                                        6\n",
       "IPython / Jupyter;Notepad++;RStudio                                                                6\n",
       "PyCharm                                                                                            6\n",
       "IPython / Jupyter;Sublime Text                                                                     6\n",
       "Notepad++;RStudio                                                                                  5\n",
       "IntelliJ;Vim                                                                                       5\n",
       "Emacs;RStudio                                                                                      5\n",
       "IPython / Jupyter;PyCharm;RStudio;Sublime Text                                                     5\n",
       "Emacs;IPython / Jupyter                                                                            5\n",
       "PyCharm;RStudio                                                                                    5\n",
       "RStudio;Sublime Text                                                                               5\n",
       "IPython / Jupyter;Visual Studio Code                                                               4\n",
       "Atom;IPython / Jupyter;PyCharm                                                                     4\n",
       "IPython / Jupyter;PyCharm;RStudio;Sublime Text;Vim                                                 4\n",
       "Visual Studio Code                                                                                 4\n",
       "IPython / Jupyter;RStudio;Vim                                                                      4\n",
       "Atom;IPython / Jupyter;Notepad++;RStudio                                                           4\n",
       "Atom;IPython / Jupyter;RStudio                                                                     4\n",
       "Notepad++                                                                                          3\n",
       "Visual Studio                                                                                      3\n",
       "                                                                                                  ..\n",
       "IntelliJ;IPython / Jupyter;Notepad++;PyCharm                                                       1\n",
       "IPython / Jupyter;RStudio;Sublime Text;Vim;Visual Studio Code                                      1\n",
       "Eclipse;IPython / Jupyter;Sublime Text                                                             1\n",
       "RStudio;Sublime Text;Xcode                                                                         1\n",
       "Atom;Eclipse;IPython / Jupyter;Notepad++;PyCharm;Sublime Text;Visual Studio;Visual Studio Code     1\n",
       "IPython / Jupyter;Vim;Xcode                                                                        1\n",
       "IPython / Jupyter;Notepad++;PyCharm;RStudio                                                        1\n",
       "IPython / Jupyter;Sublime Text;TextMate                                                            1\n",
       "IPython / Jupyter;Vim;Visual Studio                                                                1\n",
       "Android Studio;Atom;IntelliJ;IPython / Jupyter;PyCharm                                             1\n",
       "Atom;Emacs;IPython / Jupyter;PyCharm;Vim                                                           1\n",
       "IntelliJ;NetBeans;PyCharm;Visual Studio                                                            1\n",
       "IPython / Jupyter;PyCharm;Visual Studio Code                                                       1\n",
       "IntelliJ;Notepad++;PyCharm;Sublime Text                                                            1\n",
       "IPython / Jupyter;Notepad++;PyCharm;Visual Studio                                                  1\n",
       "Atom;IntelliJ;IPython / Jupyter;PyCharm;Vim                                                        1\n",
       "IntelliJ;PyCharm;Sublime Text                                                                      1\n",
       "PyCharm;Vim;Visual Studio Code                                                                     1\n",
       "Eclipse;Emacs;IntelliJ;Notepad++;PyCharm                                                           1\n",
       "IntelliJ;IPython / Jupyter;PyCharm;Sublime Text;Visual Studio;Visual Studio Code                   1\n",
       "Emacs;IntelliJ;IPython / Jupyter;PyCharm;RStudio                                                   1\n",
       "Atom;PyCharm                                                                                       1\n",
       "Eclipse;IntelliJ;NetBeans;Notepad++;PyCharm;Vim                                                    1\n",
       "Android Studio;IntelliJ;RStudio;Visual Studio                                                      1\n",
       "IPython / Jupyter;PyCharm;Sublime Text;Visual Studio                                               1\n",
       "Android Studio;Atom;Visual Studio;Visual Studio Code                                               1\n",
       "Notepad++;PyCharm;RStudio;Vim;Visual Studio;Visual Studio Code                                     1\n",
       "Eclipse;Visual Studio;Visual Studio Code                                                           1\n",
       "Atom;Notepad++                                                                                     1\n",
       "Emacs;Visual Studio                                                                                1\n",
       "Name: IDE, Length: 263, dtype: int64"
      ]
     },
     "execution_count": 73,
     "metadata": {},
     "output_type": "execute_result"
    }
   ],
   "source": [
    "ds_only['IDE'].value_counts()"
   ]
  },
  {
   "cell_type": "code",
   "execution_count": 74,
   "metadata": {},
   "outputs": [
    {
     "data": {
      "text/plain": [
       "MacOS          171\n",
       "Windows        164\n",
       "Linux-based    160\n",
       "Name: OperatingSystem, dtype: int64"
      ]
     },
     "execution_count": 74,
     "metadata": {},
     "output_type": "execute_result"
    }
   ],
   "source": [
    "ds_only['OperatingSystem'].value_counts()"
   ]
  },
  {
   "cell_type": "code",
   "execution_count": null,
   "metadata": {},
   "outputs": [],
   "source": []
  }
 ],
 "metadata": {
  "kernelspec": {
   "display_name": "Python 3",
   "language": "python",
   "name": "python3"
  },
  "language_info": {
   "codemirror_mode": {
    "name": "ipython",
    "version": 3
   },
   "file_extension": ".py",
   "mimetype": "text/x-python",
   "name": "python",
   "nbconvert_exporter": "python",
   "pygments_lexer": "ipython3",
   "version": "3.6.5"
  }
 },
 "nbformat": 4,
 "nbformat_minor": 4
}
