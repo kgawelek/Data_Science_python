{
 "cells": [
  {
   "cell_type": "code",
   "execution_count": 5,
   "metadata": {},
   "outputs": [],
   "source": [
    "import pandas as pd"
   ]
  },
  {
   "cell_type": "code",
   "execution_count": 2,
   "metadata": {},
   "outputs": [],
   "source": [
    "import matplotlib.pyplot as plt\n",
    "from mpl_toolkits.mplot3d import Axes3D\n",
    "import numpy as np\n"
   ]
  },
  {
   "cell_type": "code",
   "execution_count": 3,
   "metadata": {},
   "outputs": [],
   "source": [
    "import random as rd"
   ]
  },
  {
   "cell_type": "code",
   "execution_count": 4,
   "metadata": {},
   "outputs": [],
   "source": [
    "aircraft_dict = {'PYT001': 'Airbus 320',\n",
    "                'PYT002': 'Boeing 737',\n",
    "                'PYT003': 'Airbus 321'}"
   ]
  },
  {
   "cell_type": "code",
   "execution_count": 6,
   "metadata": {
    "collapsed": true
   },
   "outputs": [],
   "source": [
    "aircrafts = pd.Series(aircraft_dict)"
   ]
  },
  {
   "cell_type": "code",
   "execution_count": 7,
   "metadata": {},
   "outputs": [
    {
     "data": {
      "text/plain": [
       "PYT001    Airbus 320\n",
       "PYT002    Boeing 737\n",
       "PYT003    Airbus 321\n",
       "dtype: object"
      ]
     },
     "execution_count": 7,
     "metadata": {},
     "output_type": "execute_result"
    }
   ],
   "source": [
    "aircrafts"
   ]
  },
  {
   "cell_type": "code",
   "execution_count": 9,
   "metadata": {},
   "outputs": [],
   "source": [
    "flights = []"
   ]
  },
  {
   "cell_type": "code",
   "execution_count": 10,
   "metadata": {},
   "outputs": [],
   "source": [
    "for i in range(100):\n",
    "    flights.append(rd.choice(aircrafts.index))\n"
   ]
  },
  {
   "cell_type": "code",
   "execution_count": 11,
   "metadata": {
    "collapsed": true
   },
   "outputs": [
    {
     "data": {
      "text/plain": [
       "['PYT002',\n",
       " 'PYT003',\n",
       " 'PYT003',\n",
       " 'PYT003',\n",
       " 'PYT003',\n",
       " 'PYT001',\n",
       " 'PYT001',\n",
       " 'PYT002',\n",
       " 'PYT001',\n",
       " 'PYT002',\n",
       " 'PYT002',\n",
       " 'PYT002',\n",
       " 'PYT003',\n",
       " 'PYT001',\n",
       " 'PYT003',\n",
       " 'PYT002',\n",
       " 'PYT001',\n",
       " 'PYT002',\n",
       " 'PYT003',\n",
       " 'PYT001',\n",
       " 'PYT002',\n",
       " 'PYT001',\n",
       " 'PYT003',\n",
       " 'PYT002',\n",
       " 'PYT002',\n",
       " 'PYT002',\n",
       " 'PYT001',\n",
       " 'PYT001',\n",
       " 'PYT002',\n",
       " 'PYT003',\n",
       " 'PYT002',\n",
       " 'PYT002',\n",
       " 'PYT003',\n",
       " 'PYT003',\n",
       " 'PYT002',\n",
       " 'PYT001',\n",
       " 'PYT002',\n",
       " 'PYT003',\n",
       " 'PYT002',\n",
       " 'PYT003',\n",
       " 'PYT003',\n",
       " 'PYT002',\n",
       " 'PYT002',\n",
       " 'PYT001',\n",
       " 'PYT002',\n",
       " 'PYT001',\n",
       " 'PYT003',\n",
       " 'PYT001',\n",
       " 'PYT003',\n",
       " 'PYT001',\n",
       " 'PYT003',\n",
       " 'PYT002',\n",
       " 'PYT001',\n",
       " 'PYT002',\n",
       " 'PYT001',\n",
       " 'PYT002',\n",
       " 'PYT001',\n",
       " 'PYT003',\n",
       " 'PYT002',\n",
       " 'PYT002',\n",
       " 'PYT002',\n",
       " 'PYT002',\n",
       " 'PYT003',\n",
       " 'PYT002',\n",
       " 'PYT003',\n",
       " 'PYT002',\n",
       " 'PYT001',\n",
       " 'PYT002',\n",
       " 'PYT003',\n",
       " 'PYT003',\n",
       " 'PYT002',\n",
       " 'PYT002',\n",
       " 'PYT002',\n",
       " 'PYT002',\n",
       " 'PYT003',\n",
       " 'PYT001',\n",
       " 'PYT001',\n",
       " 'PYT001',\n",
       " 'PYT001',\n",
       " 'PYT002',\n",
       " 'PYT003',\n",
       " 'PYT002',\n",
       " 'PYT001',\n",
       " 'PYT003',\n",
       " 'PYT001',\n",
       " 'PYT003',\n",
       " 'PYT001',\n",
       " 'PYT002',\n",
       " 'PYT001',\n",
       " 'PYT002',\n",
       " 'PYT001',\n",
       " 'PYT002',\n",
       " 'PYT002',\n",
       " 'PYT001',\n",
       " 'PYT003',\n",
       " 'PYT002',\n",
       " 'PYT003',\n",
       " 'PYT002',\n",
       " 'PYT002',\n",
       " 'PYT002']"
      ]
     },
     "execution_count": 11,
     "metadata": {},
     "output_type": "execute_result"
    }
   ],
   "source": [
    "flights"
   ]
  },
  {
   "cell_type": "code",
   "execution_count": 12,
   "metadata": {},
   "outputs": [
    {
     "data": {
      "text/plain": [
       "0    PYT002\n",
       "1    PYT003\n",
       "2    PYT003\n",
       "3    PYT003\n",
       "4    PYT003\n",
       "dtype: object"
      ]
     },
     "execution_count": 12,
     "metadata": {},
     "output_type": "execute_result"
    }
   ],
   "source": [
    "flights_series = pd.Series(flights)\n",
    "flights_series.head()"
   ]
  },
  {
   "cell_type": "code",
   "execution_count": 15,
   "metadata": {},
   "outputs": [
    {
     "data": {
      "text/plain": [
       "0    Boeing 737\n",
       "1    Airbus 321\n",
       "2    Airbus 321\n",
       "3    Airbus 321\n",
       "4    Airbus 321\n",
       "dtype: object"
      ]
     },
     "execution_count": 15,
     "metadata": {},
     "output_type": "execute_result"
    }
   ],
   "source": [
    "flight_aircrafts = flights_series.map(aircrafts)\n",
    "flight_aircrafts.head()"
   ]
  },
  {
   "cell_type": "code",
   "execution_count": 18,
   "metadata": {},
   "outputs": [],
   "source": [
    "pokemons = pd.read_csv(r'../pokemon.csv', usecols=['Type 1'], squeeze=True)"
   ]
  },
  {
   "cell_type": "code",
   "execution_count": 19,
   "metadata": {},
   "outputs": [
    {
     "data": {
      "text/plain": [
       "0        Grass\n",
       "1        Grass\n",
       "2        Grass\n",
       "3        Grass\n",
       "4         Fire\n",
       "        ...   \n",
       "795       Rock\n",
       "796       Rock\n",
       "797    Psychic\n",
       "798    Psychic\n",
       "799       Fire\n",
       "Name: Type 1, Length: 800, dtype: object"
      ]
     },
     "execution_count": 19,
     "metadata": {},
     "output_type": "execute_result"
    }
   ],
   "source": [
    "pokemons"
   ]
  },
  {
   "cell_type": "code",
   "execution_count": 21,
   "metadata": {},
   "outputs": [
    {
     "name": "stdout",
     "output_type": "stream",
     "text": [
      "Water       112\n",
      "Normal       98\n",
      "Grass        70\n",
      "Bug          69\n",
      "Psychic      57\n",
      "Fire         52\n",
      "Rock         44\n",
      "Electric     44\n",
      "Ground       32\n",
      "Dragon       32\n",
      "Ghost        32\n",
      "Dark         31\n",
      "Poison       28\n",
      "Steel        27\n",
      "Fighting     27\n",
      "Ice          24\n",
      "Fairy        17\n",
      "Flying        4\n",
      "Name: Type 1, dtype: int64\n"
     ]
    }
   ],
   "source": [
    "print(pokemons.value_counts())"
   ]
  },
  {
   "cell_type": "code",
   "execution_count": 23,
   "metadata": {},
   "outputs": [],
   "source": []
  },
  {
   "cell_type": "code",
   "execution_count": null,
   "metadata": {},
   "outputs": [],
   "source": []
  }
 ],
 "metadata": {
  "kernelspec": {
   "display_name": "Python 3",
   "language": "python",
   "name": "python3"
  },
  "language_info": {
   "codemirror_mode": {
    "name": "ipython",
    "version": 3
   },
   "file_extension": ".py",
   "mimetype": "text/x-python",
   "name": "python",
   "nbconvert_exporter": "python",
   "pygments_lexer": "ipython3",
   "version": "3.7.6"
  }
 },
 "nbformat": 4,
 "nbformat_minor": 4
}
