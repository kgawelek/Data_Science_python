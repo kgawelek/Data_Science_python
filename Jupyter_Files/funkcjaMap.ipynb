{
 "cells": [
  {
   "cell_type": "code",
   "execution_count": 1,
   "metadata": {},
   "outputs": [],
   "source": [
    "import pandas as pd"
   ]
  },
  {
   "cell_type": "code",
   "execution_count": 2,
   "metadata": {},
   "outputs": [],
   "source": [
    "import matplotlib.pyplot as plt\n",
    "from mpl_toolkits.mplot3d import Axes3D\n",
    "import numpy as np\n"
   ]
  },
  {
   "cell_type": "code",
   "execution_count": 3,
   "metadata": {},
   "outputs": [],
   "source": [
    "import random as rd"
   ]
  },
  {
   "cell_type": "code",
   "execution_count": 4,
   "metadata": {},
   "outputs": [],
   "source": [
    "aircraft_dict = {'PYT001': 'Airbus 320',\n",
    "                'PYT002': 'Boeing 737',\n",
    "                'PYT003': 'Airbus 321'}"
   ]
  },
  {
   "cell_type": "code",
   "execution_count": 5,
   "metadata": {},
   "outputs": [],
   "source": [
    "aircrafts = pd.Series(aircraft_dict)"
   ]
  },
  {
   "cell_type": "code",
   "execution_count": 6,
   "metadata": {},
   "outputs": [
    {
     "data": {
      "text/plain": [
       "PYT001    Airbus 320\n",
       "PYT002    Boeing 737\n",
       "PYT003    Airbus 321\n",
       "dtype: object"
      ]
     },
     "execution_count": 6,
     "metadata": {},
     "output_type": "execute_result"
    }
   ],
   "source": [
    "aircrafts"
   ]
  },
  {
   "cell_type": "code",
   "execution_count": 7,
   "metadata": {},
   "outputs": [],
   "source": [
    "flights = []"
   ]
  },
  {
   "cell_type": "code",
   "execution_count": 8,
   "metadata": {},
   "outputs": [],
   "source": [
    "for i in range(100):\n",
    "    flights.append(rd.choice(aircrafts.index))\n"
   ]
  },
  {
   "cell_type": "code",
   "execution_count": 9,
   "metadata": {
    "collapsed": true
   },
   "outputs": [
    {
     "data": {
      "text/plain": [
       "['PYT002',\n",
       " 'PYT001',\n",
       " 'PYT003',\n",
       " 'PYT001',\n",
       " 'PYT002',\n",
       " 'PYT002',\n",
       " 'PYT001',\n",
       " 'PYT002',\n",
       " 'PYT002',\n",
       " 'PYT003',\n",
       " 'PYT003',\n",
       " 'PYT001',\n",
       " 'PYT002',\n",
       " 'PYT001',\n",
       " 'PYT003',\n",
       " 'PYT001',\n",
       " 'PYT001',\n",
       " 'PYT002',\n",
       " 'PYT003',\n",
       " 'PYT003',\n",
       " 'PYT003',\n",
       " 'PYT002',\n",
       " 'PYT002',\n",
       " 'PYT001',\n",
       " 'PYT001',\n",
       " 'PYT003',\n",
       " 'PYT002',\n",
       " 'PYT003',\n",
       " 'PYT003',\n",
       " 'PYT002',\n",
       " 'PYT002',\n",
       " 'PYT002',\n",
       " 'PYT003',\n",
       " 'PYT002',\n",
       " 'PYT002',\n",
       " 'PYT003',\n",
       " 'PYT003',\n",
       " 'PYT001',\n",
       " 'PYT001',\n",
       " 'PYT003',\n",
       " 'PYT003',\n",
       " 'PYT002',\n",
       " 'PYT003',\n",
       " 'PYT002',\n",
       " 'PYT001',\n",
       " 'PYT003',\n",
       " 'PYT002',\n",
       " 'PYT001',\n",
       " 'PYT001',\n",
       " 'PYT002',\n",
       " 'PYT003',\n",
       " 'PYT001',\n",
       " 'PYT002',\n",
       " 'PYT002',\n",
       " 'PYT001',\n",
       " 'PYT003',\n",
       " 'PYT002',\n",
       " 'PYT003',\n",
       " 'PYT001',\n",
       " 'PYT001',\n",
       " 'PYT003',\n",
       " 'PYT003',\n",
       " 'PYT003',\n",
       " 'PYT003',\n",
       " 'PYT001',\n",
       " 'PYT002',\n",
       " 'PYT001',\n",
       " 'PYT003',\n",
       " 'PYT001',\n",
       " 'PYT001',\n",
       " 'PYT003',\n",
       " 'PYT002',\n",
       " 'PYT003',\n",
       " 'PYT001',\n",
       " 'PYT001',\n",
       " 'PYT002',\n",
       " 'PYT001',\n",
       " 'PYT002',\n",
       " 'PYT001',\n",
       " 'PYT001',\n",
       " 'PYT002',\n",
       " 'PYT001',\n",
       " 'PYT002',\n",
       " 'PYT002',\n",
       " 'PYT002',\n",
       " 'PYT002',\n",
       " 'PYT002',\n",
       " 'PYT001',\n",
       " 'PYT003',\n",
       " 'PYT001',\n",
       " 'PYT001',\n",
       " 'PYT002',\n",
       " 'PYT003',\n",
       " 'PYT001',\n",
       " 'PYT003',\n",
       " 'PYT002',\n",
       " 'PYT002',\n",
       " 'PYT002',\n",
       " 'PYT003',\n",
       " 'PYT001']"
      ]
     },
     "execution_count": 9,
     "metadata": {},
     "output_type": "execute_result"
    }
   ],
   "source": [
    "flights"
   ]
  },
  {
   "cell_type": "code",
   "execution_count": 10,
   "metadata": {},
   "outputs": [
    {
     "data": {
      "text/plain": [
       "0    PYT002\n",
       "1    PYT001\n",
       "2    PYT003\n",
       "3    PYT001\n",
       "4    PYT002\n",
       "dtype: object"
      ]
     },
     "execution_count": 10,
     "metadata": {},
     "output_type": "execute_result"
    }
   ],
   "source": [
    "flights_series = pd.Series(flights)\n",
    "flights_series.head()"
   ]
  },
  {
   "cell_type": "code",
   "execution_count": 11,
   "metadata": {},
   "outputs": [
    {
     "data": {
      "text/plain": [
       "0    Boeing 737\n",
       "1    Airbus 320\n",
       "2    Airbus 321\n",
       "3    Airbus 320\n",
       "4    Boeing 737\n",
       "dtype: object"
      ]
     },
     "execution_count": 11,
     "metadata": {},
     "output_type": "execute_result"
    }
   ],
   "source": [
    "flight_aircrafts = flights_series.map(aircrafts)\n",
    "flight_aircrafts.head()"
   ]
  },
  {
   "cell_type": "code",
   "execution_count": 12,
   "metadata": {},
   "outputs": [],
   "source": [
    "pokemons = pd.read_csv(r'../pokemon.csv', usecols=['Type 1'], squeeze=True)"
   ]
  },
  {
   "cell_type": "code",
   "execution_count": 13,
   "metadata": {
    "collapsed": true
   },
   "outputs": [
    {
     "data": {
      "text/plain": [
       "0         Grass\n",
       "1         Grass\n",
       "2         Grass\n",
       "3         Grass\n",
       "4          Fire\n",
       "5          Fire\n",
       "6          Fire\n",
       "7          Fire\n",
       "8          Fire\n",
       "9         Water\n",
       "10        Water\n",
       "11        Water\n",
       "12        Water\n",
       "13          Bug\n",
       "14          Bug\n",
       "15          Bug\n",
       "16          Bug\n",
       "17          Bug\n",
       "18          Bug\n",
       "19          Bug\n",
       "20       Normal\n",
       "21       Normal\n",
       "22       Normal\n",
       "23       Normal\n",
       "24       Normal\n",
       "25       Normal\n",
       "26       Normal\n",
       "27       Normal\n",
       "28       Poison\n",
       "29       Poison\n",
       "         ...   \n",
       "770       Fairy\n",
       "771    Fighting\n",
       "772    Electric\n",
       "773        Rock\n",
       "774      Dragon\n",
       "775      Dragon\n",
       "776      Dragon\n",
       "777       Steel\n",
       "778       Ghost\n",
       "779       Ghost\n",
       "780       Ghost\n",
       "781       Ghost\n",
       "782       Ghost\n",
       "783       Ghost\n",
       "784       Ghost\n",
       "785       Ghost\n",
       "786       Ghost\n",
       "787       Ghost\n",
       "788         Ice\n",
       "789         Ice\n",
       "790      Flying\n",
       "791      Flying\n",
       "792       Fairy\n",
       "793        Dark\n",
       "794      Dragon\n",
       "795        Rock\n",
       "796        Rock\n",
       "797     Psychic\n",
       "798     Psychic\n",
       "799        Fire\n",
       "Name: Type 1, Length: 800, dtype: object"
      ]
     },
     "execution_count": 13,
     "metadata": {},
     "output_type": "execute_result"
    }
   ],
   "source": [
    "pokemons"
   ]
  },
  {
   "cell_type": "code",
   "execution_count": 14,
   "metadata": {
    "collapsed": true
   },
   "outputs": [
    {
     "name": "stdout",
     "output_type": "stream",
     "text": [
      "Water       112\n",
      "Normal       98\n",
      "Grass        70\n",
      "Bug          69\n",
      "Psychic      57\n",
      "Fire         52\n",
      "Rock         44\n",
      "Electric     44\n",
      "Ghost        32\n",
      "Ground       32\n",
      "Dragon       32\n",
      "Dark         31\n",
      "Poison       28\n",
      "Steel        27\n",
      "Fighting     27\n",
      "Ice          24\n",
      "Fairy        17\n",
      "Flying        4\n",
      "Name: Type 1, dtype: int64\n"
     ]
    }
   ],
   "source": [
    "print(pokemons.value_counts())"
   ]
  },
  {
   "cell_type": "code",
   "execution_count": null,
   "metadata": {},
   "outputs": [],
   "source": []
  },
  {
   "cell_type": "code",
   "execution_count": null,
   "metadata": {
    "collapsed": true
   },
   "outputs": [],
   "source": []
  }
 ],
 "metadata": {
  "kernelspec": {
   "display_name": "Python 3",
   "language": "python",
   "name": "python3"
  },
  "language_info": {
   "codemirror_mode": {
    "name": "ipython",
    "version": 3
   },
   "file_extension": ".py",
   "mimetype": "text/x-python",
   "name": "python",
   "nbconvert_exporter": "python",
   "pygments_lexer": "ipython3",
   "version": "3.6.5"
  }
 },
 "nbformat": 4,
 "nbformat_minor": 4
}
