{
 "cells": [
  {
   "cell_type": "code",
   "execution_count": 1,
   "metadata": {},
   "outputs": [],
   "source": [
    "import pandas as pd\n",
    "import numpy as np\n",
    "import matplotlib.pyplot as plt\n",
    "%matplotlib inline\n",
    "import datetime"
   ]
  },
  {
   "cell_type": "code",
   "execution_count": 4,
   "metadata": {},
   "outputs": [
    {
     "data": {
      "text/html": [
       "<div>\n",
       "<style scoped>\n",
       "    .dataframe tbody tr th:only-of-type {\n",
       "        vertical-align: middle;\n",
       "    }\n",
       "\n",
       "    .dataframe tbody tr th {\n",
       "        vertical-align: top;\n",
       "    }\n",
       "\n",
       "    .dataframe thead th {\n",
       "        text-align: right;\n",
       "    }\n",
       "</style>\n",
       "<table border=\"1\" class=\"dataframe\">\n",
       "  <thead>\n",
       "    <tr style=\"text-align: right;\">\n",
       "      <th></th>\n",
       "      <th>nasa</th>\n",
       "      <th>bean</th>\n",
       "    </tr>\n",
       "  </thead>\n",
       "  <tbody>\n",
       "    <tr>\n",
       "      <th>1</th>\n",
       "      <td>60243</td>\n",
       "      <td>0.0</td>\n",
       "    </tr>\n",
       "    <tr>\n",
       "      <th>2</th>\n",
       "      <td>177989</td>\n",
       "      <td>0.0</td>\n",
       "    </tr>\n",
       "    <tr>\n",
       "      <th>3</th>\n",
       "      <td>50264</td>\n",
       "      <td>0.0</td>\n",
       "    </tr>\n",
       "    <tr>\n",
       "      <th>4</th>\n",
       "      <td>133302</td>\n",
       "      <td>26821.0</td>\n",
       "    </tr>\n",
       "    <tr>\n",
       "      <th>5</th>\n",
       "      <td>89657</td>\n",
       "      <td>0.0</td>\n",
       "    </tr>\n",
       "  </tbody>\n",
       "</table>\n",
       "</div>"
      ],
      "text/plain": [
       "     nasa     bean\n",
       "1   60243      0.0\n",
       "2  177989      0.0\n",
       "3   50264      0.0\n",
       "4  133302  26821.0\n",
       "5   89657      0.0"
      ]
     },
     "execution_count": 4,
     "metadata": {},
     "output_type": "execute_result"
    }
   ],
   "source": [
    "nasa = pd.read_csv(\"../course-files/nasa_facebook_statuses.csv\",usecols=[\"status_published\",\"num_likes\"])\n",
    "#Convert column type to date time\n",
    "nasa[\"status_published\"] = pd.to_datetime(nasa[\"status_published\"])\n",
    "#Select observations between two datetimes - May 2015\n",
    "filter =(nasa['status_published'] >= '2016-5-1') & (nasa['status_published'] < '2016-6-1')\n",
    "nasa = nasa[filter]\n",
    "#Add column with day only\n",
    "nasa['day'] = nasa.apply(lambda row: row[\"status_published\"].day,axis=1)\n",
    "#Group all columns by sum\n",
    "nasa_by_day = nasa.groupby(by='day').sum()\n",
    "#Import data\n",
    "bean = pd.read_csv(\"../course-files/mrbean_facebook_statuses.csv\",usecols=[\"status_published\",\"num_likes\"])\n",
    "#Convert column type to date time\n",
    "bean[\"status_published\"] = pd.to_datetime(bean[\"status_published\"])\n",
    "#Select observations between two datetimes - May 2015\n",
    "filter =(bean['status_published'] >= '2016-5-1') & (bean['status_published'] < '2016-6-1')\n",
    "bean = bean[filter]\n",
    "#Add column with day only\n",
    "bean['day'] = bean.apply(lambda row: row[\"status_published\"].day,axis=1)\n",
    "#Group all columns by sum\n",
    "bean_by_day = bean.groupby(by='day').sum()\n",
    "days = nasa[\"day\"].append(bean[\"day\"])\n",
    "days = days.unique()\n",
    "fb = pd.DataFrame(index=days).sort_index()\n",
    "fb['nasa'] = nasa_by_day[\"num_likes\"]\n",
    "fb['bean'] = bean_by_day[\"num_likes\"]\n",
    "fb.fillna(value=0, inplace=True)\n",
    "fb.head()"
   ]
  },
  {
   "cell_type": "code",
   "execution_count": 5,
   "metadata": {},
   "outputs": [
    {
     "data": {
      "text/plain": [
       "<matplotlib.axes._subplots.AxesSubplot at 0x7f36d1a1d810>"
      ]
     },
     "execution_count": 5,
     "metadata": {},
     "output_type": "execute_result"
    },
    {
     "data": {
      "image/png": "[encoded data removed]",
      "text/plain": [
       "<Figure size 432x288 with 1 Axes>"
      ]
     },
     "metadata": {
      "needs_background": "light"
     },
     "output_type": "display_data"
    }
   ],
   "source": [
    "fb.plot.area()"
   ]
  },
  {
   "cell_type": "code",
   "execution_count": null,
   "metadata": {},
   "outputs": [],
   "source": []
  }
 ],
 "metadata": {
  "kernelspec": {
   "display_name": "Python 3",
   "language": "python",
   "name": "python3"
  },
  "language_info": {
   "codemirror_mode": {
    "name": "ipython",
    "version": 3
   },
   "file_extension": ".py",
   "mimetype": "text/x-python",
   "name": "python",
   "nbconvert_exporter": "python",
   "pygments_lexer": "ipython3",
   "version": "3.7.6"
  }
 },
 "nbformat": 4,
 "nbformat_minor": 4
}
